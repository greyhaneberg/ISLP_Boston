{
 "cells": [
  {
   "cell_type": "code",
   "execution_count": 3,
   "id": "038a47f6",
   "metadata": {},
   "outputs": [],
   "source": [
    "#imports\n",
    "from ISLP import load_data\n",
    "import pandas as pd"
   ]
  },
  {
   "cell_type": "code",
   "execution_count": 29,
   "id": "b7cee3d6",
   "metadata": {},
   "outputs": [],
   "source": [
    "#load data\n",
    "boston = load_data('Boston')"
   ]
  },
  {
   "cell_type": "code",
   "execution_count": 8,
   "id": "8ac431bb",
   "metadata": {},
   "outputs": [
    {
     "data": {
      "text/plain": [
       "(506, 13)"
      ]
     },
     "execution_count": 8,
     "metadata": {},
     "output_type": "execute_result"
    }
   ],
   "source": [
    "#columns and rows\n",
    "boston.shape"
   ]
  },
  {
   "cell_type": "code",
   "execution_count": 17,
   "id": "ba3cfc08",
   "metadata": {},
   "outputs": [
    {
     "name": "stdout",
     "output_type": "stream",
     "text": [
      "Top three factors with the greatest magnitude of correlation with Crime Rate (excluding Crime Rate itself):\n",
      "rad      0.625505\n",
      "tax      0.582764\n",
      "lstat    0.455621\n",
      "dtype: float64\n"
     ]
    }
   ],
   "source": [
    "#Are any of the predictors associated with per capita crime rate?\n",
    "\n",
    "#Exclude the 'crime_rate' column\n",
    "crime_rate_column = 'crim'\n",
    "columns_to_corr = boston.drop(columns=[crime_rate_column])\n",
    "\n",
    "#Calculate the correlation matrix without the 'crime_rate' column\n",
    "correlation_matrix = columns_to_corr.corrwith(boston[crime_rate_column])\n",
    "\n",
    "#Extract the absolute values of the correlations and sort them in descending order\n",
    "sorted_abs_correlations = correlation_matrix.abs().sort_values(ascending=False)\n",
    "\n",
    "#Take the top three factors with the greatest magnitude of correlation\n",
    "top_three_factors = sorted_abs_correlations.head(3)\n",
    "\n",
    "#Print or visualize the results\n",
    "print(\"Top three factors with the greatest magnitude of correlation with Crime Rate:\")\n",
    "print(top_three_factors)"
   ]
  },
  {
   "cell_type": "code",
   "execution_count": 18,
   "id": "b8e17137",
   "metadata": {},
   "outputs": [
    {
     "name": "stdout",
     "output_type": "stream",
     "text": [
      "Range of each factor in the dataset (excluding Crime Rate):\n",
      "zn         100.0000\n",
      "indus       27.2800\n",
      "chas         1.0000\n",
      "nox          0.4860\n",
      "rm           5.2190\n",
      "age         97.1000\n",
      "dis         10.9969\n",
      "rad         23.0000\n",
      "tax        524.0000\n",
      "ptratio      9.4000\n",
      "lstat       36.2400\n",
      "medv        45.0000\n",
      "dtype: float64\n"
     ]
    }
   ],
   "source": [
    "#What is the range of each predictor?\n",
    "\n",
    "#Compute the range for each factor\n",
    "ranges = columns_to_corr.apply(lambda x: x.max() - x.min())\n",
    "\n",
    "#Print or visualize the results\n",
    "print(\"Range of each factor in the dataset (excluding Crime Rate):\")\n",
    "print(ranges)"
   ]
  },
  {
   "cell_type": "code",
   "execution_count": 20,
   "id": "3594cd57",
   "metadata": {},
   "outputs": [
    {
     "name": "stdout",
     "output_type": "stream",
     "text": [
      "Number of towns that bound the Charles River: 35\n"
     ]
    }
   ],
   "source": [
    "#How many of the suburbs in this data set bound the Charles river?\n",
    "\n",
    "charles_river = (boston['chas'] == 1).sum()\n",
    "\n",
    "#Print or use the result as needed\n",
    "print(f\"Number of towns that bound the Charles River: {charles_river}\")"
   ]
  },
  {
   "cell_type": "code",
   "execution_count": 26,
   "id": "aa29bcae",
   "metadata": {},
   "outputs": [
    {
     "name": "stdout",
     "output_type": "stream",
     "text": [
      "The median pupil-teacher ratio among towns bordering the Charles River is 17.6\n"
     ]
    }
   ],
   "source": [
    "# Step 2: Filter the DataFrame for towns near the Charles River\n",
    "near_charles_df = boston[boston['chas'] == 1]\n",
    "\n",
    "# Step 3: Calculate the median pupil-teacher ratio for towns near the Charles River\n",
    "median_pupil_teacher_ratio_near_charles = near_charles_df['ptratio'].median()\n",
    "\n",
    "# Step 4: Print or use the result as needed\n",
    "print(f\"The median pupil-teacher ratio among towns bordering the Charles River is {median_pupil_teacher_ratio_near_charles}\")"
   ]
  },
  {
   "cell_type": "code",
   "execution_count": 31,
   "id": "b0e8e844",
   "metadata": {},
   "outputs": [
    {
     "name": "stdout",
     "output_type": "stream",
     "text": [
      "Index of the town with the lowest 'medv' value: 398\n"
     ]
    }
   ],
   "source": [
    "#Which suburb of Boston has lowest median value of owner-occupied homes?\n",
    "index_of_lowest_medv = boston['medv'].idxmin()\n",
    "\n",
    "# Step 3: Print or use the result as needed\n",
    "print(\"Index of the town with the lowest 'medv' value:\", index_of_lowest_medv)"
   ]
  },
  {
   "cell_type": "code",
   "execution_count": 33,
   "id": "302731c6",
   "metadata": {},
   "outputs": [
    {
     "ename": "KeyError",
     "evalue": "'homes_per_dwelling'",
     "output_type": "error",
     "traceback": [
      "\u001b[0;31m---------------------------------------------------------------------------\u001b[0m",
      "\u001b[0;31mKeyError\u001b[0m                                  Traceback (most recent call last)",
      "\u001b[0;32m~/opt/anaconda3/lib/python3.9/site-packages/pandas/core/indexes/base.py\u001b[0m in \u001b[0;36mget_loc\u001b[0;34m(self, key, method, tolerance)\u001b[0m\n\u001b[1;32m   3360\u001b[0m             \u001b[0;32mtry\u001b[0m\u001b[0;34m:\u001b[0m\u001b[0;34m\u001b[0m\u001b[0;34m\u001b[0m\u001b[0m\n\u001b[0;32m-> 3361\u001b[0;31m                 \u001b[0;32mreturn\u001b[0m \u001b[0mself\u001b[0m\u001b[0;34m.\u001b[0m\u001b[0m_engine\u001b[0m\u001b[0;34m.\u001b[0m\u001b[0mget_loc\u001b[0m\u001b[0;34m(\u001b[0m\u001b[0mcasted_key\u001b[0m\u001b[0;34m)\u001b[0m\u001b[0;34m\u001b[0m\u001b[0;34m\u001b[0m\u001b[0m\n\u001b[0m\u001b[1;32m   3362\u001b[0m             \u001b[0;32mexcept\u001b[0m \u001b[0mKeyError\u001b[0m \u001b[0;32mas\u001b[0m \u001b[0merr\u001b[0m\u001b[0;34m:\u001b[0m\u001b[0;34m\u001b[0m\u001b[0;34m\u001b[0m\u001b[0m\n",
      "\u001b[0;32m~/opt/anaconda3/lib/python3.9/site-packages/pandas/_libs/index.pyx\u001b[0m in \u001b[0;36mpandas._libs.index.IndexEngine.get_loc\u001b[0;34m()\u001b[0m\n",
      "\u001b[0;32m~/opt/anaconda3/lib/python3.9/site-packages/pandas/_libs/index.pyx\u001b[0m in \u001b[0;36mpandas._libs.index.IndexEngine.get_loc\u001b[0;34m()\u001b[0m\n",
      "\u001b[0;32mpandas/_libs/hashtable_class_helper.pxi\u001b[0m in \u001b[0;36mpandas._libs.hashtable.PyObjectHashTable.get_item\u001b[0;34m()\u001b[0m\n",
      "\u001b[0;32mpandas/_libs/hashtable_class_helper.pxi\u001b[0m in \u001b[0;36mpandas._libs.hashtable.PyObjectHashTable.get_item\u001b[0;34m()\u001b[0m\n",
      "\u001b[0;31mKeyError\u001b[0m: 'homes_per_dwelling'",
      "\nThe above exception was the direct cause of the following exception:\n",
      "\u001b[0;31mKeyError\u001b[0m                                  Traceback (most recent call last)",
      "\u001b[0;32m/var/folders/p9/m0bgs0bj3b791rgb19byv1wh0000gn/T/ipykernel_21438/839969420.py\u001b[0m in \u001b[0;36m<module>\u001b[0;34m\u001b[0m\n\u001b[1;32m      2\u001b[0m \u001b[0;34m\u001b[0m\u001b[0m\n\u001b[1;32m      3\u001b[0m \u001b[0;31m# Count towns with an average of at least 7 homes per dwelling\u001b[0m\u001b[0;34m\u001b[0m\u001b[0;34m\u001b[0m\u001b[0m\n\u001b[0;32m----> 4\u001b[0;31m \u001b[0mcount_at_least_7_homes\u001b[0m \u001b[0;34m=\u001b[0m \u001b[0;34m(\u001b[0m\u001b[0mboston\u001b[0m\u001b[0;34m[\u001b[0m\u001b[0;34m'homes_per_dwelling'\u001b[0m\u001b[0;34m]\u001b[0m \u001b[0;34m>=\u001b[0m \u001b[0;36m7\u001b[0m\u001b[0;34m)\u001b[0m\u001b[0;34m.\u001b[0m\u001b[0msum\u001b[0m\u001b[0;34m(\u001b[0m\u001b[0;34m)\u001b[0m\u001b[0;34m\u001b[0m\u001b[0;34m\u001b[0m\u001b[0m\n\u001b[0m\u001b[1;32m      5\u001b[0m \u001b[0;34m\u001b[0m\u001b[0m\n\u001b[1;32m      6\u001b[0m \u001b[0;31m# Count towns with an average of at least 8 homes per dwelling\u001b[0m\u001b[0;34m\u001b[0m\u001b[0;34m\u001b[0m\u001b[0m\n",
      "\u001b[0;32m~/opt/anaconda3/lib/python3.9/site-packages/pandas/core/frame.py\u001b[0m in \u001b[0;36m__getitem__\u001b[0;34m(self, key)\u001b[0m\n\u001b[1;32m   3456\u001b[0m             \u001b[0;32mif\u001b[0m \u001b[0mself\u001b[0m\u001b[0;34m.\u001b[0m\u001b[0mcolumns\u001b[0m\u001b[0;34m.\u001b[0m\u001b[0mnlevels\u001b[0m \u001b[0;34m>\u001b[0m \u001b[0;36m1\u001b[0m\u001b[0;34m:\u001b[0m\u001b[0;34m\u001b[0m\u001b[0;34m\u001b[0m\u001b[0m\n\u001b[1;32m   3457\u001b[0m                 \u001b[0;32mreturn\u001b[0m \u001b[0mself\u001b[0m\u001b[0;34m.\u001b[0m\u001b[0m_getitem_multilevel\u001b[0m\u001b[0;34m(\u001b[0m\u001b[0mkey\u001b[0m\u001b[0;34m)\u001b[0m\u001b[0;34m\u001b[0m\u001b[0;34m\u001b[0m\u001b[0m\n\u001b[0;32m-> 3458\u001b[0;31m             \u001b[0mindexer\u001b[0m \u001b[0;34m=\u001b[0m \u001b[0mself\u001b[0m\u001b[0;34m.\u001b[0m\u001b[0mcolumns\u001b[0m\u001b[0;34m.\u001b[0m\u001b[0mget_loc\u001b[0m\u001b[0;34m(\u001b[0m\u001b[0mkey\u001b[0m\u001b[0;34m)\u001b[0m\u001b[0;34m\u001b[0m\u001b[0;34m\u001b[0m\u001b[0m\n\u001b[0m\u001b[1;32m   3459\u001b[0m             \u001b[0;32mif\u001b[0m \u001b[0mis_integer\u001b[0m\u001b[0;34m(\u001b[0m\u001b[0mindexer\u001b[0m\u001b[0;34m)\u001b[0m\u001b[0;34m:\u001b[0m\u001b[0;34m\u001b[0m\u001b[0;34m\u001b[0m\u001b[0m\n\u001b[1;32m   3460\u001b[0m                 \u001b[0mindexer\u001b[0m \u001b[0;34m=\u001b[0m \u001b[0;34m[\u001b[0m\u001b[0mindexer\u001b[0m\u001b[0;34m]\u001b[0m\u001b[0;34m\u001b[0m\u001b[0;34m\u001b[0m\u001b[0m\n",
      "\u001b[0;32m~/opt/anaconda3/lib/python3.9/site-packages/pandas/core/indexes/base.py\u001b[0m in \u001b[0;36mget_loc\u001b[0;34m(self, key, method, tolerance)\u001b[0m\n\u001b[1;32m   3361\u001b[0m                 \u001b[0;32mreturn\u001b[0m \u001b[0mself\u001b[0m\u001b[0;34m.\u001b[0m\u001b[0m_engine\u001b[0m\u001b[0;34m.\u001b[0m\u001b[0mget_loc\u001b[0m\u001b[0;34m(\u001b[0m\u001b[0mcasted_key\u001b[0m\u001b[0;34m)\u001b[0m\u001b[0;34m\u001b[0m\u001b[0;34m\u001b[0m\u001b[0m\n\u001b[1;32m   3362\u001b[0m             \u001b[0;32mexcept\u001b[0m \u001b[0mKeyError\u001b[0m \u001b[0;32mas\u001b[0m \u001b[0merr\u001b[0m\u001b[0;34m:\u001b[0m\u001b[0;34m\u001b[0m\u001b[0;34m\u001b[0m\u001b[0m\n\u001b[0;32m-> 3363\u001b[0;31m                 \u001b[0;32mraise\u001b[0m \u001b[0mKeyError\u001b[0m\u001b[0;34m(\u001b[0m\u001b[0mkey\u001b[0m\u001b[0;34m)\u001b[0m \u001b[0;32mfrom\u001b[0m \u001b[0merr\u001b[0m\u001b[0;34m\u001b[0m\u001b[0;34m\u001b[0m\u001b[0m\n\u001b[0m\u001b[1;32m   3364\u001b[0m \u001b[0;34m\u001b[0m\u001b[0m\n\u001b[1;32m   3365\u001b[0m         \u001b[0;32mif\u001b[0m \u001b[0mis_scalar\u001b[0m\u001b[0;34m(\u001b[0m\u001b[0mkey\u001b[0m\u001b[0;34m)\u001b[0m \u001b[0;32mand\u001b[0m \u001b[0misna\u001b[0m\u001b[0;34m(\u001b[0m\u001b[0mkey\u001b[0m\u001b[0;34m)\u001b[0m \u001b[0;32mand\u001b[0m \u001b[0;32mnot\u001b[0m \u001b[0mself\u001b[0m\u001b[0;34m.\u001b[0m\u001b[0mhasnans\u001b[0m\u001b[0;34m:\u001b[0m\u001b[0;34m\u001b[0m\u001b[0;34m\u001b[0m\u001b[0m\n",
      "\u001b[0;31mKeyError\u001b[0m: 'homes_per_dwelling'"
     ]
    }
   ],
   "source": [
    "#How many of the suburbs average more than seven and eight rooms per dwelling?\n",
    "\n",
    "# Count towns with an average of at least 7 homes per dwelling\n",
    "count_at_least_7_homes = (boston['rm'] >= 7).sum()\n",
    "\n",
    "# Count towns with an average of at least 8 homes per dwelling\n",
    "count_at_least_8_homes = (boston['rm'] >= 8).sum()\n",
    "\n",
    "# Step 4: Print or use the results as needed\n",
    "print(\"Number of towns with an average of at least 7 homes per dwelling:\", count_at_least_7_homes)\n",
    "print(\"Number of towns with an average of at least 8 homes per dwelling:\", count_at_least_8_homes)"
   ]
  },
  {
   "cell_type": "code",
   "execution_count": null,
   "id": "328c2faa",
   "metadata": {},
   "outputs": [],
   "source": []
  }
 ],
 "metadata": {
  "kernelspec": {
   "display_name": "Python 3 (ipykernel)",
   "language": "python",
   "name": "python3"
  },
  "language_info": {
   "codemirror_mode": {
    "name": "ipython",
    "version": 3
   },
   "file_extension": ".py",
   "mimetype": "text/x-python",
   "name": "python",
   "nbconvert_exporter": "python",
   "pygments_lexer": "ipython3",
   "version": "3.9.13"
  }
 },
 "nbformat": 4,
 "nbformat_minor": 5
}
